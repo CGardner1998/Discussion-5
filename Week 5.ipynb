{
 "cells": [
  {
   "cell_type": "code",
   "execution_count": 1,
   "id": "5ffbbcd5-4b0e-4c55-b824-e63e43d45bc6",
   "metadata": {},
   "outputs": [
    {
     "data": {
      "image/png": "[encoded data removed]",
      "text/plain": [
       "<Figure size 640x480 with 1 Axes>"
      ]
     },
     "metadata": {},
     "output_type": "display_data"
    },
    {
     "name": "stdout",
     "output_type": "stream",
     "text": [
      "Sentiment Distribution:\n",
      "Liked\n",
      "1    500\n",
      "0    500\n",
      "Name: count, dtype: int64\n",
      "\n",
      "Most Common Words in Positive Reviews: [('i', 138), ('a', 130), ('good', 73), ('great', 70), ('place', 60), ('food', 60), ('service', 47), ('very', 47), ('you', 40), ('had', 37)]\n",
      "Most Common Words in Negative Reviews: [('i', 219), ('a', 143), ('t', 78), ('food', 67), ('we', 53), ('place', 51), ('be', 44), ('my', 40), ('service', 40), ('at', 40)]\n",
      "\n",
      "Average Length of Positive Reviews: 7.59\n",
      "Average Length of Negative Reviews: 8.746\n",
      "Selected Features for Modeling:\n",
      "['again', 'all', 'also', 'amazing', 'an', 'are', 'at', 'back', 'be', 'been', 'best', 'can', 'don', 'ever', 'food', 'friendly', 'from', 'go', 'good', 'great', 'had', 'have', 'here', 'if', 'just', 'like', 'my', 'never', 'nice', 'no', 'one', 'only', 'our', 'out', 'place', 'really', 'restaurant', 'service', 'their', 'there', 'they', 'time', 'up', 'very', 'we', 'what', 'will', 'would', 'you', 'your', 'Review_Length']\n"
     ]
    }
   ],
   "source": [
    "import pandas as pd\n",
    "import re\n",
    "import matplotlib.pyplot as plt\n",
    "\n",
    "# Update the file path to match the location of your dataset\n",
    "file_path = r'C:\\Users\\cheyanne.gardner\\OneDrive\\Documents\\DeVos\\Restaurant_Reviews.tsv'\n",
    "data = pd.read_csv(file_path, sep='\\t')\n",
    "\n",
    "# Text preprocessing\n",
    "def preprocess(text):\n",
    "    text = re.sub(r'[^a-zA-Z]', ' ', text).lower()  # Remove non-letters, lowercase\n",
    "    return ' '.join(word.rstrip('s') for word in text.split() if word not in {'the', 'is', 'and', 'on', 'in', 'it', 'this', 'of', 'to', 'was', 'for', 'not', 'that', 'with', 'but', 'so', 'were', 'by'})\n",
    "\n",
    "data['Cleaned_Review'] = data['Review'].apply(preprocess)\n",
    "\n",
    "# Sentiment distribution\n",
    "data['Liked'].value_counts().plot(kind='bar', color=['skyblue', 'salmon'], title='Sentiment Distribution')\n",
    "plt.xticks([0, 1], ['Negative', 'Positive'], rotation=0)\n",
    "plt.show()\n",
    "\n",
    "# Check sentiment distribution\n",
    "print(\"Sentiment Distribution:\")\n",
    "print(data['Liked'].value_counts())\n",
    "\n",
    "# Word frequency in positive and negative reviews\n",
    "from collections import Counter\n",
    "\n",
    "positive_words = ' '.join(data[data['Liked'] == 1]['Cleaned_Review']).split()\n",
    "negative_words = ' '.join(data[data['Liked'] == 0]['Cleaned_Review']).split()\n",
    "\n",
    "positive_freq = Counter(positive_words).most_common(10)\n",
    "negative_freq = Counter(negative_words).most_common(10)\n",
    "\n",
    "print(\"\\nMost Common Words in Positive Reviews:\", positive_freq)\n",
    "print(\"Most Common Words in Negative Reviews:\", negative_freq)\n",
    "\n",
    "# Average length of reviews\n",
    "data['Review_Length'] = data['Cleaned_Review'].apply(lambda x: len(x.split()))\n",
    "avg_positive_length = data[data['Liked'] == 1]['Review_Length'].mean()\n",
    "avg_negative_length = data[data['Liked'] == 0]['Review_Length'].mean()\n",
    "\n",
    "print(f\"\\nAverage Length of Positive Reviews: {avg_positive_length}\")\n",
    "print(f\"Average Length of Negative Reviews: {avg_negative_length}\")\n",
    "\n",
    "from sklearn.feature_extraction.text import CountVectorizer, TfidfVectorizer\n",
    "import pandas as pd\n",
    "\n",
    "# Use TF-IDF for vectorization\n",
    "tfidf = TfidfVectorizer(max_features=50)  \n",
    "X_tfidf = tfidf.fit_transform(data['Cleaned_Review'])\n",
    "\n",
    "# Create additional features\n",
    "data['Review_Length'] = data['Cleaned_Review'].apply(lambda x: len(x.split()))\n",
    "\n",
    "# Convert TF-IDF to DataFrame for feature integration\n",
    "tfidf_df = pd.DataFrame(X_tfidf.toarray(), columns=tfidf.get_feature_names_out())\n",
    "\n",
    "# Combine vectorized features with additional ones\n",
    "X = pd.concat([tfidf_df, data['Review_Length']], axis=1)\n",
    "y = data['Liked']  # Target variable\n",
    "\n",
    "# Display feature names\n",
    "print(\"Selected Features for Modeling:\")\n",
    "print(list(X.columns))"
   ]
  },
  {
   "cell_type": "code",
   "execution_count": null,
   "id": "cb7265e6-b53b-4770-9a4d-adfe5e46bfe6",
   "metadata": {},
   "outputs": [],
   "source": []
  },
  {
   "cell_type": "code",
   "execution_count": null,
   "id": "86c951c4-a2b8-40ae-b413-599401bedd5a",
   "metadata": {},
   "outputs": [],
   "source": []
  }
 ],
 "metadata": {
  "kernelspec": {
   "display_name": "Python 3 (ipykernel)",
   "language": "python",
   "name": "python3"
  },
  "language_info": {
   "codemirror_mode": {
    "name": "ipython",
    "version": 3
   },
   "file_extension": ".py",
   "mimetype": "text/x-python",
   "name": "python",
   "nbconvert_exporter": "python",
   "pygments_lexer": "ipython3",
   "version": "3.11.7"
  }
 },
 "nbformat": 4,
 "nbformat_minor": 5
}
